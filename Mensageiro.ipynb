{
 "cells": [
  {
   "cell_type": "code",
   "execution_count": null,
   "metadata": {},
   "outputs": [],
   "source": [
    "import pyautogui as auto\n",
    "from pynput.keyboard import Key, Controller\n",
    "\n",
    "keyboard = Controller()\n",
    "\n",
    "auto.position()\n",
    "\n",
    "msg = open('Contagem.txt', 'r')\n",
    "auto.click(auto.position())\n",
    "\n",
    "for x in msg:\n",
    "    auto.write(x)\n",
    "    keyboard.press(Key.enter)\n",
    "    keyboard.release(Key.enter)"
   ]
  }
 ],
 "metadata": {
  "kernelspec": {
   "display_name": "Python 3",
   "language": "python",
   "name": "python3"
  },
  "language_info": {
   "codemirror_mode": {
    "name": "ipython",
    "version": 3
   },
   "file_extension": ".py",
   "mimetype": "text/x-python",
   "name": "python",
   "nbconvert_exporter": "python",
   "pygments_lexer": "ipython3",
   "version": "3.7.7"
  }
 },
 "nbformat": 4,
 "nbformat_minor": 4
}
